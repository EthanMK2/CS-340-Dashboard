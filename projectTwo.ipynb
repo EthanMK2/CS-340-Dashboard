from jupyter_plotly_dash import JupyterDash

import dash
import dash_leaflet as dl
import dash_core_components as dcc
import dash_html_components as html
import plotly.express as px
import dash_table
from dash.dependencies import Input, Output



import numpy as np
import pandas as pd
import matplotlib.pyplot as plt
from pymongo import MongoClient

from animalShelter import AnimalShelter



###########################
# Data Manipulation / Model
###########################

username = "myUser"
password = "user123"
shelter = AnimalShelter(username, password)


# class read method must support return of cursor object and accept projection json input
df = pd.DataFrame.from_records(shelter.read({}))





#########################
# Dashboard Layout / View
#########################
app = JupyterDash('SimpleExample')

app.layout = html.Div([
    html.Div(id='hidden-div', style={'display':'none'}),
    html.Center(html.B(html.H1('SNHU CS-340 Dashboard'))),
    html.Hr(),
    html.H1("Ethan Klukkert, Dash and Python/MongoDB"),
    html.A(
        [html.Img(src="https://learn.snhu.edu/content/enforced/1236959-CS-340-T3341-OL-TRAD-UG.23EW3/course_documents/Grazioso%20Salvare%20Logo.png?_&d2lSessionVal=Io8ne6coXK28nKdvYJyAxxtj7&ou=1236959")],
    href="https://www.snhu.edu/"
    ),
    html.Div([
        html.P("Rescue Type:"),
        # html.P(id="test_update", style={"margin": "2rem"}),
        dcc.Dropdown(
            id='rescue_type',
            options=[
                {'label': 'Reset', 'value': 'All'},
                {'label': 'Water Rescue', 'value': 'Water Rescue'},
                {'label': 'Mountain Rescue', 'value': 'Mountain Rescue'},
                {'label': 'Disaster Rescue', 'value': 'Disaster Rescue'},
            ],
            value='All'
        ),
        #html.P("Breed:"),
#         dcc.Input(
#             placeholder="Enter a value...",
#             type='text',
#             value='',
#         ),
    ], style={'margin': '0.5rem'}),
    dash_table.DataTable(
        id='datatable-id',
        columns=[
            {"name": i, "id": i, "deletable": False, "selectable": True} for i in df.columns
        ],
        data=df.to_dict('records'),
        row_selectable="single",
        # basic page setup
        page_action="native",
        page_current= 0,
        page_size= 15,
    ),
    html.Br(),
     html.Hr(),
     html.Div(
            id='map-id',
            className='col s12 m6',
            ),
    dcc.Graph(id="graph"),
])

#############################################
# Interaction Between Components / Controller
#############################################

# updates the datatable by filtering/fetching new data
@app.callback(
    Output('datatable-id', 'data'),
    [Input('rescue_type', 'value')]
)
def update_filter(rescueType):
    if rescueType == "All":
        newData = pd.DataFrame.from_records(shelter.read({})).to_dict('records')
        return newData
    elif rescueType == "Water Rescue":
        newData = pd.DataFrame.from_records(shelter.read({
            "animal_type":"Dog","breed":{"$in":["Labrador Retriever Mix", "Chesapeake Bay Retriever", "Newfoundland"]}, "sex_upon_outcome":"Intact Female","age_upon_outcome_in_weeks":{"$gte":26},"age_upon_outcome_in_weeks":{"$lte":156}
        })).to_dict('records')
        return newData
    elif rescueType == "Mountain Rescue":
        newData = pd.DataFrame.from_records(shelter.read({
            "animal_type":"Dog","breed":{"$in":["German Shepherd", "Alaskan Malamute", "Old English Sheepdog", "Siberian Husky", "Rottweiler"]}, "sex_upon_outcome":"Intact Male","age_upon_outcome_in_weeks":{"$gte":26},"age_upon_outcome_in_weeks":{"$lte":156}
        })).to_dict('records')
        return newData
    elif rescueType == "Disaster Rescue":
        newData = pd.DataFrame.from_records(shelter.read({
            "animal_type":"Dog","breed":{"$in":["Doberman Pinscher","German Shepherd","Golden Retriever","Bloodhound", "Rottweiler"]}, "sex_upon_outcome":"Intact Male","age_upon_outcome_in_weeks":{"$gte":20},"age_upon_outcome_in_weeks":{"$lte":300}
        })).to_dict('records')
        return newData

# reset the page back to first page when filter is changed
@app.callback(
    Output('datatable-id', 'page_current'),
    [Input('rescue_type', 'value')]
)
def reset_page(rescueType):
    return 0

#This callback will highlight a row on the data table when the user selects it
@app.callback(
    Output('datatable-id', 'style_data_conditional'),
    [Input('datatable-id', 'selected_columns')]
)
def update_styles(selected_columns):
    return [{
        'if': { 'column_id': i },
        'background_color': '#D2F3FF'
    } for i in selected_columns]

# piechart
@app.callback(
    Output("graph", "figure"), 
    [Input("datatable-id", 'data'),
     Input("rescue_type", 'value')]
)
def generate_chart(data, value):
    dff = data # replace with your own data source
    fig = px.pie(data_frame=dff, names="outcome_type", hole=.2)
    return fig


# Displays location of first animal in page if no selected row, otherwise display location of selected
@app.callback(
    Output('map-id', "children"),
    [Input('datatable-id', "derived_viewport_data"),
     Input('datatable-id', "selected_rows")])
def update_map(viewData, selected_rows):
    dff = pd.DataFrame.from_dict(viewData)
    
    if not bool(selected_rows):
        lat = round(viewData[0]["location_lat"], 2)
        long = round(viewData[0]["location_long"], 2)
    else:
        viewDataIndex = selected_rows[0] % 15 # NOTE: must be modulo by datatable page_size
        lat = round(viewData[viewDataIndex]["location_lat"], 2)
        long = round(viewData[viewDataIndex]["location_long"], 2)
    return [
        dl.Map(style={'width': '1000px', 'height': '500px'}, center=[lat,long], zoom=10, children=[
            dl.TileLayer(id="base-layer-id"),
            # Marker with tool tip and popup
            dl.Marker(position=[lat,long], children=[
                dl.Tooltip(dff.iloc[0,4]),
                dl.Popup([
                    html.H1("Animal Name"),
                    html.P(dff.iloc[1,9])
                ])
            ])
        ])
    ]
    

app